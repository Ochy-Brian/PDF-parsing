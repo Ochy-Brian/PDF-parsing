{
  "nbformat": 4,
  "nbformat_minor": 0,
  "metadata": {
    "colab": {
      "provenance": []
    },
    "kernelspec": {
      "name": "python3",
      "display_name": "Python 3"
    },
    "language_info": {
      "name": "python"
    }
  },
  "cells": [
    {
      "cell_type": "markdown",
      "source": [
        "# Extract Text from PDF Files in Python for NLP"
      ],
      "metadata": {
        "id": "TVSXgNv2nDmb"
      }
    },
    {
      "cell_type": "code",
      "source": [
        "#Woorking with pdf files\n",
        "!pip install PyPDF2"
      ],
      "metadata": {
        "colab": {
          "base_uri": "https://localhost:8080/"
        },
        "id": "PHqTykaKnZUD",
        "outputId": "b10c80cc-7618-41e5-985b-400c06c74ee0"
      },
      "execution_count": 1,
      "outputs": [
        {
          "output_type": "stream",
          "name": "stdout",
          "text": [
            "Collecting PyPDF2\n",
            "  Downloading pypdf2-3.0.1-py3-none-any.whl.metadata (6.8 kB)\n",
            "Downloading pypdf2-3.0.1-py3-none-any.whl (232 kB)\n",
            "\u001b[?25l   \u001b[90m━━━━━━━━━━━━━━━━━━━━━━━━━━━━━━━━━━━━━━━━\u001b[0m \u001b[32m0.0/232.6 kB\u001b[0m \u001b[31m?\u001b[0m eta \u001b[36m-:--:--\u001b[0m\r\u001b[2K   \u001b[91m━━━━━━━━━━━━━━━━━━━━━\u001b[0m\u001b[90m╺\u001b[0m\u001b[90m━━━━━━━━━━━━━━━━━━\u001b[0m \u001b[32m122.9/232.6 kB\u001b[0m \u001b[31m3.5 MB/s\u001b[0m eta \u001b[36m0:00:01\u001b[0m\r\u001b[2K   \u001b[90m━━━━━━━━━━━━━━━━━━━━━━━━━━━━━━━━━━━━━━━━\u001b[0m \u001b[32m232.6/232.6 kB\u001b[0m \u001b[31m3.6 MB/s\u001b[0m eta \u001b[36m0:00:00\u001b[0m\n",
            "\u001b[?25hInstalling collected packages: PyPDF2\n",
            "Successfully installed PyPDF2-3.0.1\n"
          ]
        }
      ]
    },
    {
      "cell_type": "code",
      "source": [
        "import PyPDF2 as pdf"
      ],
      "metadata": {
        "id": "WFzkmcmln5lJ"
      },
      "execution_count": 2,
      "outputs": []
    },
    {
      "cell_type": "code",
      "source": [
        "file = open ('/content/Brian (Ochieng) Ochieng _ LinkedIn.pdf', 'rb')"
      ],
      "metadata": {
        "id": "NiMh1oCAn_w7"
      },
      "execution_count": 4,
      "outputs": []
    },
    {
      "cell_type": "code",
      "source": [
        "file"
      ],
      "metadata": {
        "colab": {
          "base_uri": "https://localhost:8080/"
        },
        "id": "Vy1oJEKQoNES",
        "outputId": "d1ce8b6f-f8fb-451a-d5aa-c2f2e79cf4ad"
      },
      "execution_count": 5,
      "outputs": [
        {
          "output_type": "execute_result",
          "data": {
            "text/plain": [
              "<_io.BufferedReader name='/content/Brian (Ochieng) Ochieng _ LinkedIn.pdf'>"
            ]
          },
          "metadata": {},
          "execution_count": 5
        }
      ]
    },
    {
      "cell_type": "code",
      "source": [
        "pdf_reader = pdf.PdfReader(file)"
      ],
      "metadata": {
        "id": "sjAQXxBdoidd"
      },
      "execution_count": 7,
      "outputs": []
    },
    {
      "cell_type": "code",
      "source": [
        "pdf_reader"
      ],
      "metadata": {
        "colab": {
          "base_uri": "https://localhost:8080/"
        },
        "id": "x9Z13iHgo0KJ",
        "outputId": "b5167426-d74e-49a9-f8b6-822fefd94fff"
      },
      "execution_count": 8,
      "outputs": [
        {
          "output_type": "execute_result",
          "data": {
            "text/plain": [
              "<PyPDF2._reader.PdfReader at 0x7b3b12184d60>"
            ]
          },
          "metadata": {},
          "execution_count": 8
        }
      ]
    },
    {
      "cell_type": "code",
      "source": [
        "help(pdf_reader)"
      ],
      "metadata": {
        "colab": {
          "base_uri": "https://localhost:8080/"
        },
        "id": "fazEO1P4o5Up",
        "outputId": "f95119bb-44e7-448a-f49e-e71db8b6cd58"
      },
      "execution_count": 9,
      "outputs": [
        {
          "output_type": "stream",
          "name": "stdout",
          "text": [
            "Help on PdfReader in module PyPDF2._reader object:\n",
            "\n",
            "class PdfReader(builtins.object)\n",
            " |  PdfReader(stream: Union[str, IO, pathlib.Path], strict: bool = False, password: Union[NoneType, str, bytes] = None) -> None\n",
            " |  \n",
            " |  Initialize a PdfReader object.\n",
            " |  \n",
            " |  This operation can take some time, as the PDF stream's cross-reference\n",
            " |  tables are read into memory.\n",
            " |  \n",
            " |  :param stream: A File object or an object that supports the standard read\n",
            " |      and seek methods similar to a File object. Could also be a\n",
            " |      string representing a path to a PDF file.\n",
            " |  :param bool strict: Determines whether user should be warned of all\n",
            " |      problems and also causes some correctable problems to be fatal.\n",
            " |      Defaults to ``False``.\n",
            " |  :param None/str/bytes password: Decrypt PDF file at initialization. If the\n",
            " |      password is None, the file will not be decrypted.\n",
            " |      Defaults to ``None``\n",
            " |  \n",
            " |  Methods defined here:\n",
            " |  \n",
            " |  __init__(self, stream: Union[str, IO, pathlib.Path], strict: bool = False, password: Union[NoneType, str, bytes] = None) -> None\n",
            " |      Initialize self.  See help(type(self)) for accurate signature.\n",
            " |  \n",
            " |  cacheGetIndirectObject(self, generation: int, idnum: int) -> Optional[PyPDF2.generic._base.PdfObject]\n",
            " |      .. deprecated:: 1.28.0\n",
            " |      \n",
            " |          Use :meth:`cache_get_indirect_object` instead.\n",
            " |  \n",
            " |  cacheIndirectObject(self, generation: int, idnum: int, obj: Optional[PyPDF2.generic._base.PdfObject]) -> Optional[PyPDF2.generic._base.PdfObject]\n",
            " |      .. deprecated:: 1.28.0\n",
            " |      \n",
            " |          Use :meth:`cache_indirect_object` instead.\n",
            " |  \n",
            " |  cache_get_indirect_object(self, generation: int, idnum: int) -> Optional[PyPDF2.generic._base.PdfObject]\n",
            " |  \n",
            " |  cache_indirect_object(self, generation: int, idnum: int, obj: Optional[PyPDF2.generic._base.PdfObject]) -> Optional[PyPDF2.generic._base.PdfObject]\n",
            " |  \n",
            " |  decode_permissions(self, permissions_code: int) -> Dict[str, bool]\n",
            " |  \n",
            " |  decrypt(self, password: Union[str, bytes]) -> PyPDF2._encryption.PasswordType\n",
            " |      When using an encrypted / secured PDF file with the PDF Standard\n",
            " |      encryption handler, this function will allow the file to be decrypted.\n",
            " |      It checks the given password against the document's user password and\n",
            " |      owner password, and then stores the resulting decryption key if either\n",
            " |      password is correct.\n",
            " |      \n",
            " |      It does not matter which password was matched.  Both passwords provide\n",
            " |      the correct decryption key that will allow the document to be used with\n",
            " |      this library.\n",
            " |      \n",
            " |      :param str password: The password to match.\n",
            " |      :return: `PasswordType`.\n",
            " |  \n",
            " |  getDestinationPageNumber(self, destination: PyPDF2.generic._data_structures.Destination) -> int\n",
            " |      .. deprecated:: 1.28.0\n",
            " |      \n",
            " |          Use :meth:`get_destination_page_number` instead.\n",
            " |  \n",
            " |  getDocumentInfo(self) -> Optional[PyPDF2._reader.DocumentInformation]\n",
            " |      .. deprecated:: 1.28.0\n",
            " |      \n",
            " |          Use the attribute :py:attr:`metadata` instead.\n",
            " |  \n",
            " |  getFields(self, tree: Optional[PyPDF2.generic._data_structures.TreeObject] = None, retval: Optional[Dict[Any, Any]] = None, fileobj: Optional[Any] = None) -> Optional[Dict[str, Any]]\n",
            " |      .. deprecated:: 1.28.0\n",
            " |      \n",
            " |          Use :meth:`get_fields` instead.\n",
            " |  \n",
            " |  getFormTextFields(self) -> Dict[str, Any]\n",
            " |      .. deprecated:: 1.28.0\n",
            " |      \n",
            " |          Use :meth:`get_form_text_fields` instead.\n",
            " |  \n",
            " |  getIsEncrypted(self) -> bool\n",
            " |      .. deprecated:: 1.28.0\n",
            " |      \n",
            " |          Use :py:attr:`is_encrypted` instead.\n",
            " |  \n",
            " |  getNamedDestinations(self, tree: Optional[PyPDF2.generic._data_structures.TreeObject] = None, retval: Optional[Any] = None) -> Dict[str, Any]\n",
            " |      .. deprecated:: 1.28.0\n",
            " |      \n",
            " |          Use :py:attr:`named_destinations` instead.\n",
            " |  \n",
            " |  getNumPages(self) -> int\n",
            " |      .. deprecated:: 1.28.0\n",
            " |      \n",
            " |          Use :code:`len(reader.pages)` instead.\n",
            " |  \n",
            " |  getObject(self, indirectReference: PyPDF2.generic._base.IndirectObject) -> Optional[PyPDF2.generic._base.PdfObject]\n",
            " |      .. deprecated:: 1.28.0\n",
            " |      \n",
            " |          Use :meth:`get_object` instead.\n",
            " |  \n",
            " |  getOutlines(self, node: Optional[PyPDF2.generic._data_structures.DictionaryObject] = None, outline: Optional[Any] = None) -> List[Union[PyPDF2.generic._data_structures.Destination, List[Union[PyPDF2.generic._data_structures.Destination, List[PyPDF2.generic._data_structures.Destination]]]]]\n",
            " |      .. deprecated:: 1.28.0\n",
            " |      \n",
            " |          Use :py:attr:`outline` instead.\n",
            " |  \n",
            " |  getPage(self, pageNumber: int) -> PyPDF2._page.PageObject\n",
            " |      .. deprecated:: 1.28.0\n",
            " |      \n",
            " |          Use :code:`reader.pages[page_number]` instead.\n",
            " |  \n",
            " |  getPageLayout(self) -> Optional[str]\n",
            " |      .. deprecated:: 1.28.0\n",
            " |      \n",
            " |          Use :py:attr:`page_layout` instead.\n",
            " |  \n",
            " |  getPageMode(self) -> Optional[Literal['/UseNone', '/UseOutlines', '/UseThumbs', '/FullScreen', '/UseOC', '/UseAttachments']]\n",
            " |      .. deprecated:: 1.28.0\n",
            " |      \n",
            " |          Use :py:attr:`page_mode` instead.\n",
            " |  \n",
            " |  getPageNumber(self, page: PyPDF2._page.PageObject) -> int\n",
            " |      .. deprecated:: 1.28.0\n",
            " |      \n",
            " |          Use :meth:`get_page_number` instead.\n",
            " |  \n",
            " |  getXmpMetadata(self) -> Optional[PyPDF2.xmp.XmpInformation]\n",
            " |      .. deprecated:: 1.28.0\n",
            " |      \n",
            " |          Use the attribute :py:attr:`xmp_metadata` instead.\n",
            " |  \n",
            " |  get_destination_page_number(self, destination: PyPDF2.generic._data_structures.Destination) -> int\n",
            " |      Retrieve page number of a given Destination object.\n",
            " |      \n",
            " |      :param Destination destination: The destination to get page number.\n",
            " |      :return: the page number or -1 if page not found\n",
            " |  \n",
            " |  get_fields(self, tree: Optional[PyPDF2.generic._data_structures.TreeObject] = None, retval: Optional[Dict[Any, Any]] = None, fileobj: Optional[Any] = None) -> Optional[Dict[str, Any]]\n",
            " |      Extract field data if this PDF contains interactive form fields.\n",
            " |      \n",
            " |      The *tree* and *retval* parameters are for recursive use.\n",
            " |      \n",
            " |      :param fileobj: A file object (usually a text file) to write\n",
            " |          a report to on all interactive form fields found.\n",
            " |      :return: A dictionary where each key is a field name, and each\n",
            " |          value is a :class:`Field<PyPDF2.generic.Field>` object. By\n",
            " |          default, the mapping name is used for keys.\n",
            " |          ``None`` if form data could not be located.\n",
            " |  \n",
            " |  get_form_text_fields(self) -> Dict[str, Any]\n",
            " |      Retrieve form fields from the document with textual data.\n",
            " |      \n",
            " |      The key is the name of the form field, the value is the content of the\n",
            " |      field.\n",
            " |      \n",
            " |      If the document contains multiple form fields with the same name, the\n",
            " |      second and following will get the suffix _2, _3, ...\n",
            " |  \n",
            " |  get_object(self, indirect_reference: Union[int, PyPDF2.generic._base.IndirectObject]) -> Optional[PyPDF2.generic._base.PdfObject]\n",
            " |  \n",
            " |  get_page_number(self, page: PyPDF2._page.PageObject) -> int\n",
            " |      Retrieve page number of a given PageObject\n",
            " |      \n",
            " |      :param PageObject page: The page to get page number. Should be\n",
            " |          an instance of :class:`PageObject<PyPDF2._page.PageObject>`\n",
            " |      :return: the page number or -1 if page not found\n",
            " |  \n",
            " |  read(self, stream: <class 'IO'>) -> None\n",
            " |  \n",
            " |  readNextEndLine(self, stream: <class 'IO'>, limit_offset: int = 0) -> bytes\n",
            " |      .. deprecated:: 1.28.0\n",
            " |  \n",
            " |  readObjectHeader(self, stream: <class 'IO'>) -> Tuple[int, int]\n",
            " |      .. deprecated:: 1.28.0\n",
            " |      \n",
            " |          Use :meth:`read_object_header` instead.\n",
            " |  \n",
            " |  read_next_end_line(self, stream: <class 'IO'>, limit_offset: int = 0) -> bytes\n",
            " |      .. deprecated:: 2.1.0\n",
            " |  \n",
            " |  read_object_header(self, stream: <class 'IO'>) -> Tuple[int, int]\n",
            " |  \n",
            " |  ----------------------------------------------------------------------\n",
            " |  Readonly properties defined here:\n",
            " |  \n",
            " |  documentInfo\n",
            " |      .. deprecated:: 1.28.0\n",
            " |      \n",
            " |          Use the attribute :py:attr:`metadata` instead.\n",
            " |  \n",
            " |  isEncrypted\n",
            " |      .. deprecated:: 1.28.0\n",
            " |      \n",
            " |          Use :py:attr:`is_encrypted` instead.\n",
            " |  \n",
            " |  is_encrypted\n",
            " |      Read-only boolean property showing whether this PDF file is encrypted.\n",
            " |      Note that this property, if true, will remain true even after the\n",
            " |      :meth:`decrypt()<PyPDF2.PdfReader.decrypt>` method is called.\n",
            " |  \n",
            " |  metadata\n",
            " |      Retrieve the PDF file's document information dictionary, if it exists.\n",
            " |      Note that some PDF files use metadata streams instead of docinfo\n",
            " |      dictionaries, and these metadata streams will not be accessed by this\n",
            " |      function.\n",
            " |      \n",
            " |      :return: the document information of this PDF file\n",
            " |  \n",
            " |  namedDestinations\n",
            " |      .. deprecated:: 1.28.0\n",
            " |      \n",
            " |          Use :py:attr:`named_destinations` instead.\n",
            " |  \n",
            " |  named_destinations\n",
            " |      A read-only dictionary which maps names to\n",
            " |      :class:`Destinations<PyPDF2.generic.Destination>`\n",
            " |  \n",
            " |  numPages\n",
            " |      .. deprecated:: 1.28.0\n",
            " |      \n",
            " |          Use :code:`len(reader.pages)` instead.\n",
            " |  \n",
            " |  outline\n",
            " |      Read-only property for the outline (i.e., a collection of 'outline items'\n",
            " |      which are also known as 'bookmarks') present in the document.\n",
            " |      \n",
            " |      :return: a nested list of :class:`Destinations<PyPDF2.generic.Destination>`.\n",
            " |  \n",
            " |  outlines\n",
            " |      .. deprecated:: 2.9.0\n",
            " |      \n",
            " |          Use :py:attr:`outline` instead.\n",
            " |  \n",
            " |  pageLayout\n",
            " |      .. deprecated:: 1.28.0\n",
            " |      \n",
            " |          Use :py:attr:`page_layout` instead.\n",
            " |  \n",
            " |  pageMode\n",
            " |      .. deprecated:: 1.28.0\n",
            " |      \n",
            " |          Use :py:attr:`page_mode` instead.\n",
            " |  \n",
            " |  page_layout\n",
            " |      Get the page layout.\n",
            " |      \n",
            " |      :return: Page layout currently being used.\n",
            " |      \n",
            " |      .. list-table:: Valid ``layout`` values\n",
            " |         :widths: 50 200\n",
            " |      \n",
            " |         * - /NoLayout\n",
            " |           - Layout explicitly not specified\n",
            " |         * - /SinglePage\n",
            " |           - Show one page at a time\n",
            " |         * - /OneColumn\n",
            " |           - Show one column at a time\n",
            " |         * - /TwoColumnLeft\n",
            " |           - Show pages in two columns, odd-numbered pages on the left\n",
            " |         * - /TwoColumnRight\n",
            " |           - Show pages in two columns, odd-numbered pages on the right\n",
            " |         * - /TwoPageLeft\n",
            " |           - Show two pages at a time, odd-numbered pages on the left\n",
            " |         * - /TwoPageRight\n",
            " |           - Show two pages at a time, odd-numbered pages on the right\n",
            " |  \n",
            " |  page_mode\n",
            " |      Get the page mode.\n",
            " |      \n",
            " |      :return: Page mode currently being used.\n",
            " |      \n",
            " |      .. list-table:: Valid ``mode`` values\n",
            " |         :widths: 50 200\n",
            " |      \n",
            " |         * - /UseNone\n",
            " |           - Do not show outline or thumbnails panels\n",
            " |         * - /UseOutlines\n",
            " |           - Show outline (aka bookmarks) panel\n",
            " |         * - /UseThumbs\n",
            " |           - Show page thumbnails panel\n",
            " |         * - /FullScreen\n",
            " |           - Fullscreen view\n",
            " |         * - /UseOC\n",
            " |           - Show Optional Content Group (OCG) panel\n",
            " |         * - /UseAttachments\n",
            " |           - Show attachments panel\n",
            " |  \n",
            " |  pages\n",
            " |      Read-only property that emulates a list of :py:class:`Page<PyPDF2._page.Page>` objects.\n",
            " |  \n",
            " |  pdf_header\n",
            " |  \n",
            " |  threads\n",
            " |      Read-only property for the list of threads see §8.3.2 from PDF 1.7 spec\n",
            " |      \n",
            " |      :return: an Array of Dictionnaries with \"/F\" and \"/I\" properties\n",
            " |               or None if no articles.\n",
            " |  \n",
            " |  xfa\n",
            " |  \n",
            " |  xmpMetadata\n",
            " |      .. deprecated:: 1.28.0\n",
            " |      \n",
            " |          Use the attribute :py:attr:`xmp_metadata` instead.\n",
            " |  \n",
            " |  xmp_metadata\n",
            " |      XMP (Extensible Metadata Platform) data\n",
            " |      \n",
            " |      :return: a :class:`XmpInformation<xmp.XmpInformation>`\n",
            " |          instance that can be used to access XMP metadata from the document.\n",
            " |          or ``None`` if no metadata was found on the document root.\n",
            " |  \n",
            " |  ----------------------------------------------------------------------\n",
            " |  Data descriptors defined here:\n",
            " |  \n",
            " |  __dict__\n",
            " |      dictionary for instance variables (if defined)\n",
            " |  \n",
            " |  __weakref__\n",
            " |      list of weak references to the object (if defined)\n",
            "\n"
          ]
        }
      ]
    },
    {
      "cell_type": "code",
      "source": [
        "pdf_reader.is_encrypted"
      ],
      "metadata": {
        "colab": {
          "base_uri": "https://localhost:8080/"
        },
        "id": "7Ma_nsyDpEIS",
        "outputId": "4097f93d-c457-4501-8195-1eff02a7351e"
      },
      "execution_count": 11,
      "outputs": [
        {
          "output_type": "execute_result",
          "data": {
            "text/plain": [
              "False"
            ]
          },
          "metadata": {},
          "execution_count": 11
        }
      ]
    },
    {
      "cell_type": "code",
      "source": [
        "page1 = pdf_reader.pages[0]"
      ],
      "metadata": {
        "id": "9DuweRvapbf1"
      },
      "execution_count": 12,
      "outputs": []
    },
    {
      "cell_type": "code",
      "source": [
        "page1.extract_text()"
      ],
      "metadata": {
        "colab": {
          "base_uri": "https://localhost:8080/",
          "height": 140
        },
        "id": "7L-O0YEZpjDi",
        "outputId": "2765274e-8358-4b9e-a836-9b66c50c2d49"
      },
      "execution_count": 15,
      "outputs": [
        {
          "output_type": "execute_result",
          "data": {
            "text/plain": [
              "\"500+  connections\\nAdd pr ofile section\\n Verify now\\nData Scientist\\nKisumu County, K enya  · Contact infoBrian (Ochieng) Ochieng\\nMentorness\\nMoringa School\\nOpen t o Resour ces\\nOpen t o work\\nData Officer and Machine Learning Intern roles\\nShow details\\nAnaly tics\\n Private to you\\n96 pr ofile views\\nDiscover who's viewed your profile.\\n553 post impr essions\\nCheck out who's engaging with your posts.\\nPast 7 days\\n12 sear ch appearances\\nSee how often you appear in search results.\\nShow all analy tics\\nAbout\\nI am an Enthusiastic data scientist who recently completed a rigorous data science\\nbootcamp coursework, blending a foundation in data journalism and monitoring and\\nevaluation with a burgeoning interest in Machine Learning, NLP, and Deep Learning,\\nBig Data and Machine learning operations Throughout the bootcamp journey, I've\\ndelved into various projects like sales analysis project on tableau, practicing various\\nregression methods, and current work on movie recommender systems. These\\nexperiences have honed my ability to extract actionable insights from data, bridging\\ntheory with practical application.\\nWith a background rooted communication I bring a unique perspective to the realm\\nof AI, where I come up with various articles on machine learning AI and the current\\ntrends thus synthesizing quantitative methodologies with emerging technologies.\\nEach project has offered invaluable opportunities to refine my skills in Python,\\nTensorFlow, and PyT orch, while also fostering a deep appreciation for collaborative\\nHome My Network Jobs Messaging Notifications Me\\n For Business Lear\\n10/31/24, 4:52 PM Brian (Ochieng) Ochieng | LinkedIn\\nhttps://www.linkedin.com/in/brian-ochieng-97b37b150/ 1/6\""
            ],
            "application/vnd.google.colaboratory.intrinsic+json": {
              "type": "string"
            }
          },
          "metadata": {},
          "execution_count": 15
        }
      ]
    },
    {
      "cell_type": "markdown",
      "source": [
        "#Append Write or Merge PDFs"
      ],
      "metadata": {
        "id": "r8CWkHgfqb-J"
      }
    },
    {
      "cell_type": "code",
      "source": [
        "pdf_writer = pdf.PdfWriter()"
      ],
      "metadata": {
        "id": "sIOKgFq4qj0S"
      },
      "execution_count": 17,
      "outputs": []
    },
    {
      "cell_type": "code",
      "source": [
        "pdf_writer.add_page(page1)"
      ],
      "metadata": {
        "colab": {
          "base_uri": "https://localhost:8080/"
        },
        "id": "mODfxmMMrHOB",
        "outputId": "b2d2be9b-ddb0-40ba-a624-ea791ab76e75"
      },
      "execution_count": 18,
      "outputs": [
        {
          "output_type": "execute_result",
          "data": {
            "text/plain": [
              "{'/Type': '/Page',\n",
              " '/Resources': {'/ProcSet': ['/PDF', '/Text', '/ImageB', '/ImageC', '/ImageI'],\n",
              "  '/ExtGState': {'/G3': {'/ca': 1, '/BM': '/Normal'},\n",
              "   '/G4': {'/ca': 0.2, '/BM': '/Normal'},\n",
              "   '/G5': {'/ca': 0.749, '/BM': '/Normal'},\n",
              "   '/G9': {'/ca': 0.902, '/BM': '/Normal'},\n",
              "   '/G11': {'/ca': 0.6, '/BM': '/Normal'},\n",
              "   '/G16': {'/CA': 1,\n",
              "    '/ca': 1,\n",
              "    '/LC': 0,\n",
              "    '/LJ': 0,\n",
              "    '/LW': 4,\n",
              "    '/ML': 4,\n",
              "    '/SA': True,\n",
              "    '/BM': '/Normal'},\n",
              "   '/G19': {'/ca': 0.25, '/BM': '/Normal'},\n",
              "   '/G22': {'/ca': 0.302, '/BM': '/Normal'},\n",
              "   '/G24': {'/Type': '/ExtGState',\n",
              "    '/SMask': {'/Type': '/Mask',\n",
              "     '/S': '/Luminosity',\n",
              "     '/G': {'/Type': '/XObject',\n",
              "      '/Subtype': '/Form',\n",
              "      '/Resources': {'/ProcSet': ['/PDF',\n",
              "        '/Text',\n",
              "        '/ImageB',\n",
              "        '/ImageC',\n",
              "        '/ImageI'],\n",
              "       '/ExtGState': {'/G3': {'/ca': 1, '/BM': '/Normal'}},\n",
              "       '/XObject': {'/X21': {'/Type': '/XObject',\n",
              "         '/Subtype': '/Image',\n",
              "         '/Width': 70,\n",
              "         '/Height': 3133,\n",
              "         '/ColorSpace': '/DeviceGray',\n",
              "         '/BitsPerComponent': 8,\n",
              "         '/Filter': '/DCTDecode',\n",
              "         '/ColorTransform': 0}}},\n",
              "      '/BBox': [2397, 84, 2467, 3217],\n",
              "      '/Group': {'/Type': '/Group',\n",
              "       '/S': '/Transparency',\n",
              "       '/CS': '/DeviceGray',\n",
              "       '/I': True}}}},\n",
              "   '/G25': {'/Type': '/ExtGState', '/SMask': '/None'},\n",
              "   '/G28': {'/Type': '/ExtGState',\n",
              "    '/SMask': {'/Type': '/Mask',\n",
              "     '/S': '/Luminosity',\n",
              "     '/G': {'/Type': '/XObject',\n",
              "      '/Subtype': '/Form',\n",
              "      '/Resources': {'/ProcSet': ['/PDF',\n",
              "        '/Text',\n",
              "        '/ImageB',\n",
              "        '/ImageC',\n",
              "        '/ImageI'],\n",
              "       '/ExtGState': {'/G3': {'/ca': 1, '/BM': '/Normal'}},\n",
              "       '/XObject': {'/X26': {'/Type': '/XObject',\n",
              "         '/Subtype': '/Image',\n",
              "         '/Width': 70,\n",
              "         '/Height': 68,\n",
              "         '/ColorSpace': '/DeviceGray',\n",
              "         '/BitsPerComponent': 8,\n",
              "         '/Filter': '/DCTDecode',\n",
              "         '/ColorTransform': 0}}},\n",
              "      '/BBox': [2397, 3149, 2467, 3217],\n",
              "      '/Group': {'/Type': '/Group',\n",
              "       '/S': '/Transparency',\n",
              "       '/CS': '/DeviceGray',\n",
              "       '/I': True}}}},\n",
              "   '/G31': {'/Type': '/ExtGState',\n",
              "    '/SMask': {'/Type': '/Mask',\n",
              "     '/S': '/Luminosity',\n",
              "     '/G': {'/Type': '/XObject',\n",
              "      '/Subtype': '/Form',\n",
              "      '/Resources': {'/ProcSet': ['/PDF',\n",
              "        '/Text',\n",
              "        '/ImageB',\n",
              "        '/ImageC',\n",
              "        '/ImageI'],\n",
              "       '/ExtGState': {'/G3': {'/ca': 1, '/BM': '/Normal'}},\n",
              "       '/XObject': {'/X29': {'/Type': '/XObject',\n",
              "         '/Subtype': '/Image',\n",
              "         '/Width': 225,\n",
              "         '/Height': 176,\n",
              "         '/ColorSpace': '/DeviceGray',\n",
              "         '/BitsPerComponent': 8,\n",
              "         '/Filter': '/DCTDecode',\n",
              "         '/ColorTransform': 0}}},\n",
              "      '/BBox': [2269, 2162, 2494, 2338],\n",
              "      '/Group': {'/Type': '/Group',\n",
              "       '/S': '/Transparency',\n",
              "       '/CS': '/DeviceGray',\n",
              "       '/I': True}}}},\n",
              "   '/G34': {'/Type': '/ExtGState',\n",
              "    '/SMask': {'/Type': '/Mask',\n",
              "     '/S': '/Luminosity',\n",
              "     '/G': {'/Type': '/XObject',\n",
              "      '/Subtype': '/Form',\n",
              "      '/Resources': {'/ProcSet': ['/PDF',\n",
              "        '/Text',\n",
              "        '/ImageB',\n",
              "        '/ImageC',\n",
              "        '/ImageI'],\n",
              "       '/ExtGState': {'/G3': {'/ca': 1, '/BM': '/Normal'}},\n",
              "       '/XObject': {'/X32': {'/Type': '/XObject',\n",
              "         '/Subtype': '/Image',\n",
              "         '/Width': 225,\n",
              "         '/Height': 175,\n",
              "         '/ColorSpace': '/DeviceGray',\n",
              "         '/BitsPerComponent': 8,\n",
              "         '/Filter': '/DCTDecode',\n",
              "         '/ColorTransform': 0}}},\n",
              "      '/BBox': [2269, 2121, 2494, 2296],\n",
              "      '/Group': {'/Type': '/Group',\n",
              "       '/S': '/Transparency',\n",
              "       '/CS': '/DeviceGray',\n",
              "       '/I': True}}}}},\n",
              "  '/XObject': {'/X7': {'/Type': '/XObject',\n",
              "    '/Subtype': '/Image',\n",
              "    '/Width': 1400,\n",
              "    '/Height': 350,\n",
              "    '/ColorSpace': ['/ICCBased', IndirectObject(27, 0, 135493636872832)],\n",
              "    '/BitsPerComponent': 8,\n",
              "    '/Filter': '/DCTDecode',\n",
              "    '/ColorTransform': 0},\n",
              "   '/X13': {'/Type': '/XObject',\n",
              "    '/Subtype': '/Image',\n",
              "    '/Width': 100,\n",
              "    '/Height': 100,\n",
              "    '/ColorSpace': ['/ICCBased', IndirectObject(27, 0, 135493636872832)],\n",
              "    '/BitsPerComponent': 8,\n",
              "    '/Filter': '/DCTDecode',\n",
              "    '/ColorTransform': 0},\n",
              "   '/X14': {'/Type': '/XObject',\n",
              "    '/Subtype': '/Image',\n",
              "    '/Width': 100,\n",
              "    '/Height': 100,\n",
              "    '/ColorSpace': ['/ICCBased', IndirectObject(27, 0, 135493636872832)],\n",
              "    '/BitsPerComponent': 8,\n",
              "    '/Filter': '/DCTDecode',\n",
              "    '/ColorTransform': 0},\n",
              "   '/X17': {'/Type': '/XObject',\n",
              "    '/Subtype': '/Image',\n",
              "    '/Width': 200,\n",
              "    '/Height': 200,\n",
              "    '/ColorSpace': ['/ICCBased', IndirectObject(27, 0, 135493636872832)],\n",
              "    '/BitsPerComponent': 8,\n",
              "    '/Filter': '/DCTDecode',\n",
              "    '/ColorTransform': 0},\n",
              "   '/X18': {'/Type': '/XObject',\n",
              "    '/Subtype': '/Image',\n",
              "    '/Width': 100,\n",
              "    '/Height': 100,\n",
              "    '/ColorSpace': ['/ICCBased', IndirectObject(27, 0, 135493636872832)],\n",
              "    '/BitsPerComponent': 8,\n",
              "    '/Filter': '/DCTDecode',\n",
              "    '/ColorTransform': 0},\n",
              "   '/X20': {'/Type': '/XObject',\n",
              "    '/Subtype': '/Form',\n",
              "    '/Resources': {'/ProcSet': ['/PDF',\n",
              "      '/Text',\n",
              "      '/ImageB',\n",
              "      '/ImageC',\n",
              "      '/ImageI'],\n",
              "     '/ExtGState': {'/G11': {'/ca': 0.6, '/BM': '/Normal'}}},\n",
              "    '/BBox': [0, 0, 19, 30],\n",
              "    '/Group': {'/Type': '/Group', '/S': '/Transparency', '/I': True},\n",
              "    '/Filter': '/FlateDecode'},\n",
              "   '/X35': {'/Type': '/XObject',\n",
              "    '/Subtype': '/Image',\n",
              "    '/Width': 500,\n",
              "    '/Height': 500,\n",
              "    '/ColorSpace': ['/ICCBased', IndirectObject(27, 0, 135493636872832)],\n",
              "    '/SMask': {'/Type': '/XObject',\n",
              "     '/Subtype': '/Image',\n",
              "     '/Width': 500,\n",
              "     '/Height': 500,\n",
              "     '/ColorSpace': '/DeviceGray',\n",
              "     '/BitsPerComponent': 8,\n",
              "     '/Filter': '/FlateDecode'},\n",
              "    '/BitsPerComponent': 8,\n",
              "    '/Filter': '/FlateDecode'}},\n",
              "  '/Font': {'/F6': {'/Type': '/Font',\n",
              "    '/Subtype': '/Type0',\n",
              "    '/BaseFont': '/AAAAAA+SegoeUI-Semibold',\n",
              "    '/Encoding': '/Identity-H',\n",
              "    '/DescendantFonts': [IndirectObject(36, 0, 135493636872832)],\n",
              "    '/ToUnicode': {'/Filter': '/FlateDecode'}},\n",
              "   '/F10': {'/Type': '/Font',\n",
              "    '/Subtype': '/Type0',\n",
              "    '/BaseFont': '/BAAAAA+SegoeUI',\n",
              "    '/Encoding': '/Identity-H',\n",
              "    '/DescendantFonts': [IndirectObject(41, 0, 135493636872832)],\n",
              "    '/ToUnicode': {'/Filter': '/FlateDecode'}},\n",
              "   '/F12': {'/Type': '/Font',\n",
              "    '/Subtype': '/Type0',\n",
              "    '/BaseFont': '/AAAAAA+SegoeUI-Semibold',\n",
              "    '/Encoding': '/Identity-H',\n",
              "    '/DescendantFonts': [IndirectObject(46, 0, 135493636872832)],\n",
              "    '/ToUnicode': {'/Filter': '/FlateDecode'}},\n",
              "   '/F15': {'/Type': '/Font',\n",
              "    '/Subtype': '/Type0',\n",
              "    '/BaseFont': '/AAAAAA+SegoeUI-Semibold',\n",
              "    '/Encoding': '/Identity-H',\n",
              "    '/DescendantFonts': [IndirectObject(51, 0, 135493636872832)],\n",
              "    '/ToUnicode': {'/Filter': '/FlateDecode'}},\n",
              "   '/F37': {'/Type': '/Font',\n",
              "    '/Subtype': '/Type0',\n",
              "    '/BaseFont': '/CAAAAA+ArialMT',\n",
              "    '/Encoding': '/Identity-H',\n",
              "    '/DescendantFonts': [IndirectObject(56, 0, 135493636872832)],\n",
              "    '/ToUnicode': {'/Filter': '/FlateDecode'}}}},\n",
              " '/MediaBox': [0, 0, 612, 792],\n",
              " '/Annots': [IndirectObject(60, 0, 135493636872832),\n",
              "  IndirectObject(61, 0, 135493636872832),\n",
              "  IndirectObject(62, 0, 135493636872832),\n",
              "  IndirectObject(63, 0, 135493636872832),\n",
              "  IndirectObject(64, 0, 135493636872832),\n",
              "  IndirectObject(65, 0, 135493636872832),\n",
              "  IndirectObject(66, 0, 135493636872832),\n",
              "  IndirectObject(67, 0, 135493636872832),\n",
              "  IndirectObject(68, 0, 135493636872832),\n",
              "  IndirectObject(69, 0, 135493636872832),\n",
              "  IndirectObject(70, 0, 135493636872832),\n",
              "  IndirectObject(71, 0, 135493636872832),\n",
              "  IndirectObject(72, 0, 135493636872832),\n",
              "  IndirectObject(73, 0, 135493636872832),\n",
              "  IndirectObject(74, 0, 135493636872832),\n",
              "  IndirectObject(75, 0, 135493636872832),\n",
              "  IndirectObject(76, 0, 135493636872832),\n",
              "  IndirectObject(77, 0, 135493636872832),\n",
              "  IndirectObject(78, 0, 135493636872832),\n",
              "  IndirectObject(79, 0, 135493636872832),\n",
              "  IndirectObject(80, 0, 135493636872832),\n",
              "  IndirectObject(81, 0, 135493636872832),\n",
              "  IndirectObject(82, 0, 135493636872832),\n",
              "  IndirectObject(83, 0, 135493636872832),\n",
              "  IndirectObject(84, 0, 135493636872832)],\n",
              " '/Contents': {'/Filter': '/FlateDecode'},\n",
              " '/Parent': {'/Type': '/Pages',\n",
              "  '/Count': 1,\n",
              "  '/Kids': [IndirectObject(4, 0, 135493636872832)]}}"
            ]
          },
          "metadata": {},
          "execution_count": 18
        }
      ]
    },
    {
      "cell_type": "code",
      "source": [
        "output = open('new_file.pdf', 'wb')\n",
        "pdf_writer.write(output)\n",
        "output.close()\n"
      ],
      "metadata": {
        "id": "Hv9PZNdKrRku"
      },
      "execution_count": 19,
      "outputs": []
    }
  ]
}